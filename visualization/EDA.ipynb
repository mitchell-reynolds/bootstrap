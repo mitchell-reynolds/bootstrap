{
 "cells": [
  {
   "cell_type": "code",
   "execution_count": 1,
   "id": "cd89ebcf-c43b-4fb6-97f0-10bef0c5e298",
   "metadata": {},
   "outputs": [],
   "source": [
    "import pandas as pd\n",
    "import matplotlib.pyplot as plt"
   ]
  },
  {
   "cell_type": "code",
   "execution_count": 2,
   "id": "e54f6af4-6258-433d-b1a1-d8578adbe71b",
   "metadata": {},
   "outputs": [
    {
     "name": "stdout",
     "output_type": "stream",
     "text": [
      "<class 'pandas.core.frame.DataFrame'>\n",
      "RangeIndex: 71915 entries, 0 to 71914\n",
      "Data columns (total 11 columns):\n",
      " #   Column                         Non-Null Count  Dtype \n",
      "---  ------                         --------------  ----- \n",
      " 0   nct_id                         71915 non-null  object\n",
      " 1   brief_title                    71915 non-null  object\n",
      " 2   sponsor_name                   71915 non-null  object\n",
      " 3   phases                         71915 non-null  object\n",
      " 4   has_results                    71915 non-null  bool  \n",
      " 5   overall_status                 71915 non-null  object\n",
      " 6   primary_completion_date        71915 non-null  object\n",
      " 7   study_first_post_date          71915 non-null  object\n",
      " 8   url                            71915 non-null  object\n",
      " 9   clean_primary_completion_date  71915 non-null  object\n",
      " 10  is_phase4                      71915 non-null  int64 \n",
      "dtypes: bool(1), int64(1), object(9)\n",
      "memory usage: 5.6+ MB\n"
     ]
    }
   ],
   "source": [
    "df = pd.read_csv('data/clinical_trials-completedDate_industry.csv')\n",
    "df.info()"
   ]
  },
  {
   "cell_type": "code",
   "execution_count": 3,
   "id": "d5eda3b8-295e-4a4c-91b2-ea2a274dedf1",
   "metadata": {
    "scrolled": true
   },
   "outputs": [
    {
     "data": {
      "text/html": [
       "<div>\n",
       "<style scoped>\n",
       "    .dataframe tbody tr th:only-of-type {\n",
       "        vertical-align: middle;\n",
       "    }\n",
       "\n",
       "    .dataframe tbody tr th {\n",
       "        vertical-align: top;\n",
       "    }\n",
       "\n",
       "    .dataframe thead th {\n",
       "        text-align: right;\n",
       "    }\n",
       "</style>\n",
       "<table border=\"1\" class=\"dataframe\">\n",
       "  <thead>\n",
       "    <tr style=\"text-align: right;\">\n",
       "      <th></th>\n",
       "      <th>nct_id</th>\n",
       "      <th>brief_title</th>\n",
       "      <th>sponsor_name</th>\n",
       "      <th>phases</th>\n",
       "      <th>has_results</th>\n",
       "      <th>overall_status</th>\n",
       "      <th>primary_completion_date</th>\n",
       "      <th>study_first_post_date</th>\n",
       "      <th>url</th>\n",
       "      <th>clean_primary_completion_date</th>\n",
       "      <th>is_phase4</th>\n",
       "    </tr>\n",
       "  </thead>\n",
       "  <tbody>\n",
       "    <tr>\n",
       "      <th>0</th>\n",
       "      <td>NCT04128579</td>\n",
       "      <td>Study of EQ001 (Itolizumab) in Systemic Lupus ...</td>\n",
       "      <td>Equillium</td>\n",
       "      <td>['PHASE1']</td>\n",
       "      <td>False</td>\n",
       "      <td>COMPLETED</td>\n",
       "      <td>2023-11-16</td>\n",
       "      <td>2019-10-16</td>\n",
       "      <td>https://clinicaltrials.gov/study/NCT04128579</td>\n",
       "      <td>2023-11-16</td>\n",
       "      <td>0</td>\n",
       "    </tr>\n",
       "    <tr>\n",
       "      <th>1</th>\n",
       "      <td>NCT02312479</td>\n",
       "      <td>Safety and Performance Study of the Nyxoah SAT...</td>\n",
       "      <td>Nyxoah S.A.</td>\n",
       "      <td>['NA']</td>\n",
       "      <td>False</td>\n",
       "      <td>TERMINATED</td>\n",
       "      <td>2015-11</td>\n",
       "      <td>2014-12-09</td>\n",
       "      <td>https://clinicaltrials.gov/study/NCT02312479</td>\n",
       "      <td>2015-11-01</td>\n",
       "      <td>0</td>\n",
       "    </tr>\n",
       "    <tr>\n",
       "      <th>2</th>\n",
       "      <td>NCT03235479</td>\n",
       "      <td>Safety and Efficacy Study in Adult Subjects Wi...</td>\n",
       "      <td>Pfizer</td>\n",
       "      <td>['PHASE3']</td>\n",
       "      <td>True</td>\n",
       "      <td>COMPLETED</td>\n",
       "      <td>2018-01-21</td>\n",
       "      <td>2017-08-01</td>\n",
       "      <td>https://clinicaltrials.gov/study/NCT03235479</td>\n",
       "      <td>2018-01-21</td>\n",
       "      <td>0</td>\n",
       "    </tr>\n",
       "    <tr>\n",
       "      <th>3</th>\n",
       "      <td>NCT02840279</td>\n",
       "      <td>A Multiple Ascending Dose Study of BPN14770 in...</td>\n",
       "      <td>Tetra Discovery Partners</td>\n",
       "      <td>['PHASE1']</td>\n",
       "      <td>False</td>\n",
       "      <td>COMPLETED</td>\n",
       "      <td>2016-11</td>\n",
       "      <td>2016-07-21</td>\n",
       "      <td>https://clinicaltrials.gov/study/NCT02840279</td>\n",
       "      <td>2016-11-01</td>\n",
       "      <td>0</td>\n",
       "    </tr>\n",
       "    <tr>\n",
       "      <th>4</th>\n",
       "      <td>NCT03284879</td>\n",
       "      <td>Post-Marketing Surveillance Study of OTEZLA</td>\n",
       "      <td>Amgen</td>\n",
       "      <td>Unknown</td>\n",
       "      <td>False</td>\n",
       "      <td>COMPLETED</td>\n",
       "      <td>2021-10-31</td>\n",
       "      <td>2017-09-15</td>\n",
       "      <td>https://clinicaltrials.gov/study/NCT03284879</td>\n",
       "      <td>2021-10-31</td>\n",
       "      <td>0</td>\n",
       "    </tr>\n",
       "  </tbody>\n",
       "</table>\n",
       "</div>"
      ],
      "text/plain": [
       "        nct_id                                        brief_title  \\\n",
       "0  NCT04128579  Study of EQ001 (Itolizumab) in Systemic Lupus ...   \n",
       "1  NCT02312479  Safety and Performance Study of the Nyxoah SAT...   \n",
       "2  NCT03235479  Safety and Efficacy Study in Adult Subjects Wi...   \n",
       "3  NCT02840279  A Multiple Ascending Dose Study of BPN14770 in...   \n",
       "4  NCT03284879        Post-Marketing Surveillance Study of OTEZLA   \n",
       "\n",
       "               sponsor_name      phases  has_results overall_status  \\\n",
       "0                 Equillium  ['PHASE1']        False      COMPLETED   \n",
       "1               Nyxoah S.A.      ['NA']        False     TERMINATED   \n",
       "2                    Pfizer  ['PHASE3']         True      COMPLETED   \n",
       "3  Tetra Discovery Partners  ['PHASE1']        False      COMPLETED   \n",
       "4                     Amgen     Unknown        False      COMPLETED   \n",
       "\n",
       "  primary_completion_date study_first_post_date  \\\n",
       "0              2023-11-16            2019-10-16   \n",
       "1                 2015-11            2014-12-09   \n",
       "2              2018-01-21            2017-08-01   \n",
       "3                 2016-11            2016-07-21   \n",
       "4              2021-10-31            2017-09-15   \n",
       "\n",
       "                                            url clean_primary_completion_date  \\\n",
       "0  https://clinicaltrials.gov/study/NCT04128579                    2023-11-16   \n",
       "1  https://clinicaltrials.gov/study/NCT02312479                    2015-11-01   \n",
       "2  https://clinicaltrials.gov/study/NCT03235479                    2018-01-21   \n",
       "3  https://clinicaltrials.gov/study/NCT02840279                    2016-11-01   \n",
       "4  https://clinicaltrials.gov/study/NCT03284879                    2021-10-31   \n",
       "\n",
       "   is_phase4  \n",
       "0          0  \n",
       "1          0  \n",
       "2          0  \n",
       "3          0  \n",
       "4          0  "
      ]
     },
     "execution_count": 3,
     "metadata": {},
     "output_type": "execute_result"
    }
   ],
   "source": [
    "df.head()"
   ]
  },
  {
   "cell_type": "code",
   "execution_count": 6,
   "id": "46113a5b-3c03-477c-8e85-c4a26b909599",
   "metadata": {},
   "outputs": [],
   "source": [
    "# Strip whitespace and convert all dates, forcing \"YYYY-MM\" format into \"YYYY-MM-01\"\n",
    "df['clean_primary_completion_date'] = (\n",
    "    df['primary_completion_date']\n",
    "    .str.strip()  # Remove any surrounding whitespace\n",
    "    .apply(lambda x: pd.to_datetime(x, format='%Y-%m-%d', errors='coerce') \n",
    "           if len(x) > 7 else pd.to_datetime(x + '-01', format='%Y-%m-%d'))\n",
    ")"
   ]
  },
  {
   "cell_type": "code",
   "execution_count": 10,
   "id": "2d64a3f6-7b3e-4086-a8c9-d6959c2c927f",
   "metadata": {},
   "outputs": [],
   "source": [
    "df['is_phase4'] = df['phases'].apply(lambda x: 1 if x.strip() == \"['PHASE4']\" else 0)"
   ]
  },
  {
   "cell_type": "code",
   "execution_count": 15,
   "id": "11eb2e2c-ba33-43ea-886e-da45c8c14186",
   "metadata": {},
   "outputs": [],
   "source": [
    "filtered_df = df[df['clean_primary_completion_date'] >= pd.Timestamp.now() - pd.DateOffset(years=10)]"
   ]
  },
  {
   "cell_type": "code",
   "execution_count": 16,
   "id": "f48b0b88-caaa-4658-9d65-9885550935fc",
   "metadata": {},
   "outputs": [
    {
     "data": {
      "text/plain": [
       "is_phase4\n",
       "0    69260\n",
       "1     2566\n",
       "Name: count, dtype: int64"
      ]
     },
     "execution_count": 16,
     "metadata": {},
     "output_type": "execute_result"
    }
   ],
   "source": [
    "filtered_df.is_phase4.value_counts()"
   ]
  },
  {
   "cell_type": "code",
   "execution_count": 17,
   "id": "265634fa-0fcb-44fa-90cd-535235ccbedf",
   "metadata": {},
   "outputs": [
    {
     "data": {
      "text/plain": [
       "11994"
      ]
     },
     "execution_count": 17,
     "metadata": {},
     "output_type": "execute_result"
    }
   ],
   "source": [
    "len(filtered_df['sponsor_name'].unique())"
   ]
  },
  {
   "cell_type": "code",
   "execution_count": 19,
   "id": "5bf0c48c-399b-41b0-b536-5bd05f99598f",
   "metadata": {},
   "outputs": [
    {
     "data": {
      "text/plain": [
       "sponsor_name\n",
       "Novartis Pharmaceuticals                            1412\n",
       "Pfizer                                              1361\n",
       "AstraZeneca                                         1355\n",
       "GlaxoSmithKline                                     1013\n",
       "Hoffmann-La Roche                                    948\n",
       "Bayer                                                893\n",
       "Eli Lilly and Company                                883\n",
       "Bristol-Myers Squibb                                 828\n",
       "Boehringer Ingelheim                                 792\n",
       "AbbVie                                               738\n",
       "Merck Sharp & Dohme LLC                              724\n",
       "Janssen Research & Development, LLC                  671\n",
       "Takeda                                               607\n",
       "Novo Nordisk A/S                                     567\n",
       "Sanofi                                               491\n",
       "Jiangsu HengRui Medicine Co., Ltd.                   454\n",
       "Amgen                                                453\n",
       "Gilead Sciences                                      382\n",
       "Abbott Medical Devices                               303\n",
       "Celgene                                              299\n",
       "Boston Scientific Corporation                        268\n",
       "Chia Tai Tianqing Pharmaceutical Group Co., Ltd.     260\n",
       "Regeneron Pharmaceuticals                            255\n",
       "Biogen                                               252\n",
       "Chong Kun Dang Pharmaceutical                        230\n",
       "Allergan                                             213\n",
       "Genentech, Inc.                                      209\n",
       "Incyte Corporation                                   206\n",
       "Zimmer Biomet                                        204\n",
       "Société des Produits Nestlé (SPN)                    197\n",
       "Alcon Research                                       196\n",
       "Alexion Pharmaceuticals, Inc.                        167\n",
       "Ipsen                                                165\n",
       "Sanofi Pasteur, a Sanofi Company                     163\n",
       "Daewoong Pharmaceutical Co. LTD.                     152\n",
       "Innovent Biologics (Suzhou) Co. Ltd.                 151\n",
       "BeiGene                                              149\n",
       "Daiichi Sankyo                                       148\n",
       "Vertex Pharmaceuticals Incorporated                  143\n",
       "CSPC ZhongQi Pharmaceutical Technology Co., Ltd.     138\n",
       "Galderma R&D                                         137\n",
       "Astellas Pharma Global Development, Inc.             135\n",
       "H. Lundbeck A/S                                      134\n",
       "Johnson & Johnson Vision Care, Inc.                  131\n",
       "ViiV Healthcare                                      130\n",
       "Coopervision, Inc.                                   129\n",
       "Shire                                                128\n",
       "Hanmi Pharmaceutical Company Limited                 118\n",
       "Medtronic Cardiac Rhythm and Heart Failure           115\n",
       "Ferring Pharmaceuticals                              115\n",
       "Name: count, dtype: int64"
      ]
     },
     "execution_count": 19,
     "metadata": {},
     "output_type": "execute_result"
    }
   ],
   "source": [
    "filtered_df['sponsor_name'].value_counts().head(50)"
   ]
  },
  {
   "cell_type": "code",
   "execution_count": null,
   "id": "fe4f9c40-153f-4631-a757-e62e4e9ee467",
   "metadata": {},
   "outputs": [],
   "source": []
  }
 ],
 "metadata": {
  "kernelspec": {
   "display_name": "Python 3 (ipykernel)",
   "language": "python",
   "name": "python3"
  },
  "language_info": {
   "codemirror_mode": {
    "name": "ipython",
    "version": 3
   },
   "file_extension": ".py",
   "mimetype": "text/x-python",
   "name": "python",
   "nbconvert_exporter": "python",
   "pygments_lexer": "ipython3",
   "version": "3.13.0"
  }
 },
 "nbformat": 4,
 "nbformat_minor": 5
}
