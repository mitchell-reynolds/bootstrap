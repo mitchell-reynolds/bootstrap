{
 "cells": [
  {
   "cell_type": "code",
   "execution_count": 1,
   "id": "14d5f52f-7578-4cf3-b105-a8727d3ef0c5",
   "metadata": {},
   "outputs": [],
   "source": [
    "import pandas as pd"
   ]
  },
  {
   "cell_type": "code",
   "execution_count": 34,
   "id": "d7394a6c-cbb1-4b48-bf7a-88d9681bbe9d",
   "metadata": {},
   "outputs": [],
   "source": [
    "ct_sponsors = pd.read_csv('../data_cleaning/processed_data/sponsor_data.csv')\n",
    "yf_sponsors = pd.read_csv('../data_ingest/raw_data/merged_stock_data.csv')\n",
    "fda_drugs = pd.read_csv('../data_cleaning/processed_data/filtered_drugs.csv')\n",
    "hist = pd.read_csv('../data_cleaning/processed_data/price_changes.csv')"
   ]
  },
  {
   "cell_type": "code",
   "execution_count": 26,
   "id": "dcb4b5e6-439b-41f7-9d91-8464645e3f86",
   "metadata": {},
   "outputs": [
    {
     "data": {
      "text/plain": [
       "14218"
      ]
     },
     "execution_count": 26,
     "metadata": {},
     "output_type": "execute_result"
    }
   ],
   "source": [
    "len(ct_sponsors.company_ct.unique())"
   ]
  },
  {
   "cell_type": "code",
   "execution_count": 35,
   "id": "d0319a7f-5020-4495-a074-ace4c2231a5c",
   "metadata": {},
   "outputs": [
    {
     "data": {
      "text/plain": [
       "281"
      ]
     },
     "execution_count": 35,
     "metadata": {},
     "output_type": "execute_result"
    }
   ],
   "source": [
    "len(yf_sponsors.company_ct.unique())"
   ]
  },
  {
   "cell_type": "code",
   "execution_count": 9,
   "id": "a916f3ed-6809-44bf-8046-7fe640ca9aaf",
   "metadata": {},
   "outputs": [
    {
     "data": {
      "text/plain": [
       "244"
      ]
     },
     "execution_count": 9,
     "metadata": {},
     "output_type": "execute_result"
    }
   ],
   "source": [
    "len(yf_sponsors.company_ct.unique())"
   ]
  },
  {
   "cell_type": "code",
   "execution_count": 36,
   "id": "cf2d7249-941b-400e-81e1-02e9590d69c2",
   "metadata": {},
   "outputs": [
    {
     "data": {
      "text/plain": [
       "246"
      ]
     },
     "execution_count": 36,
     "metadata": {},
     "output_type": "execute_result"
    }
   ],
   "source": [
    "len(fda_drugs.matched_drug_names.unique())"
   ]
  },
  {
   "cell_type": "code",
   "execution_count": 37,
   "id": "2579d840-bae3-4b9c-b8e4-9b26975378fc",
   "metadata": {
    "collapsed": true,
    "jupyter": {
     "outputs_hidden": true
    },
    "scrolled": true
   },
   "outputs": [
    {
     "name": "stdout",
     "output_type": "stream",
     "text": [
      "<class 'pandas.core.frame.DataFrame'>\n",
      "RangeIndex: 2299 entries, 0 to 2298\n",
      "Data columns (total 13 columns):\n",
      " #   Column                     Non-Null Count  Dtype \n",
      "---  ------                     --------------  ----- \n",
      " 0   ct_id                      2299 non-null   object\n",
      " 1   fda_id                     2299 non-null   object\n",
      " 2   fda_company                2299 non-null   object\n",
      " 3   matched_drug_names         2299 non-null   object\n",
      " 4   ct_date                    2299 non-null   object\n",
      " 5   fda_date                   2220 non-null   object\n",
      " 6   ct_phase                   2172 non-null   object\n",
      " 7   fda_brand                  2299 non-null   object\n",
      " 8   fda_generic                2299 non-null   object\n",
      " 9   fda_active                 2299 non-null   object\n",
      " 10  ct_name                    2299 non-null   object\n",
      " 11  ct_otherNames              2299 non-null   object\n",
      " 12  normalized_fda_drug_names  2299 non-null   object\n",
      "dtypes: object(13)\n",
      "memory usage: 233.6+ KB\n"
     ]
    }
   ],
   "source": [
    "fda_drugs.info()"
   ]
  },
  {
   "cell_type": "code",
   "execution_count": 39,
   "id": "7e35e6af-16ab-4967-b7ad-ad5a140eb401",
   "metadata": {
    "collapsed": true,
    "jupyter": {
     "outputs_hidden": true
    },
    "scrolled": true
   },
   "outputs": [
    {
     "name": "stdout",
     "output_type": "stream",
     "text": [
      "<class 'pandas.core.frame.DataFrame'>\n",
      "RangeIndex: 96 entries, 0 to 95\n",
      "Data columns (total 17 columns):\n",
      " #   Column                     Non-Null Count  Dtype  \n",
      "---  ------                     --------------  -----  \n",
      " 0   ct_id                      96 non-null     object \n",
      " 1   fda_id                     96 non-null     object \n",
      " 2   fda_company                96 non-null     object \n",
      " 3   matched_drug_names         96 non-null     object \n",
      " 4   ct_date                    96 non-null     object \n",
      " 5   fda_date                   96 non-null     object \n",
      " 6   ct_phase                   96 non-null     object \n",
      " 7   fda_brand                  96 non-null     object \n",
      " 8   fda_generic                96 non-null     object \n",
      " 9   fda_active                 96 non-null     object \n",
      " 10  ct_name                    96 non-null     object \n",
      " 11  ct_otherNames              96 non-null     object \n",
      " 12  normalized_fda_drug_names  96 non-null     object \n",
      " 13  ct_avg_price               96 non-null     float64\n",
      " 14  fda_avg_price              96 non-null     float64\n",
      " 15  price_pct_change           96 non-null     float64\n",
      " 16  profit_or_loss             96 non-null     float64\n",
      "dtypes: float64(4), object(13)\n",
      "memory usage: 12.9+ KB\n"
     ]
    }
   ],
   "source": [
    "hist.info()"
   ]
  },
  {
   "cell_type": "code",
   "execution_count": 44,
   "id": "920e704f-9c5b-462b-98e9-23b8f776e421",
   "metadata": {},
   "outputs": [
    {
     "data": {
      "text/html": [
       "<div>\n",
       "<style scoped>\n",
       "    .dataframe tbody tr th:only-of-type {\n",
       "        vertical-align: middle;\n",
       "    }\n",
       "\n",
       "    .dataframe tbody tr th {\n",
       "        vertical-align: top;\n",
       "    }\n",
       "\n",
       "    .dataframe thead th {\n",
       "        text-align: right;\n",
       "    }\n",
       "</style>\n",
       "<table border=\"1\" class=\"dataframe\">\n",
       "  <thead>\n",
       "    <tr style=\"text-align: right;\">\n",
       "      <th></th>\n",
       "      <th>ct_id</th>\n",
       "      <th>fda_id</th>\n",
       "      <th>fda_company</th>\n",
       "      <th>matched_drug_names</th>\n",
       "      <th>ct_date</th>\n",
       "      <th>fda_date</th>\n",
       "      <th>ct_phase</th>\n",
       "      <th>fda_brand</th>\n",
       "      <th>fda_generic</th>\n",
       "      <th>fda_active</th>\n",
       "      <th>ct_name</th>\n",
       "      <th>ct_otherNames</th>\n",
       "      <th>normalized_fda_drug_names</th>\n",
       "      <th>ct_avg_price</th>\n",
       "      <th>fda_avg_price</th>\n",
       "      <th>price_pct_change</th>\n",
       "      <th>profit_or_loss</th>\n",
       "    </tr>\n",
       "  </thead>\n",
       "  <tbody>\n",
       "    <tr>\n",
       "      <th>83</th>\n",
       "      <td>NCT04167670</td>\n",
       "      <td>NDA215153</td>\n",
       "      <td>Phathom Pharmaceuticals, Inc.</td>\n",
       "      <td>amoxicillin</td>\n",
       "      <td>2019-11-19</td>\n",
       "      <td>2022-05-03</td>\n",
       "      <td>['PHASE3']</td>\n",
       "      <td>['VOQUEZNA DUAL PAK']</td>\n",
       "      <td>['VONOPRAZAN FUMARATE AND AMOXICILLIN']</td>\n",
       "      <td>['AMOXICILLIN', 'VONOPRAZAN FUMARATE']</td>\n",
       "      <td>['Vonoprazan', 'Amoxicillin', 'Clarithromycin'...</td>\n",
       "      <td>[]</td>\n",
       "      <td>amoxicillin, vonoprazan fumarate, voquezna dua...</td>\n",
       "      <td>24.368333</td>\n",
       "      <td>11.666667</td>\n",
       "      <td>-52.123657</td>\n",
       "      <td>-12.701667</td>\n",
       "    </tr>\n",
       "    <tr>\n",
       "      <th>82</th>\n",
       "      <td>NCT04167670</td>\n",
       "      <td>NDA215152</td>\n",
       "      <td>Phathom Pharmaceuticals, Inc.</td>\n",
       "      <td>amoxicillin, clarithromycin</td>\n",
       "      <td>2019-11-19</td>\n",
       "      <td>2022-05-03</td>\n",
       "      <td>['PHASE3']</td>\n",
       "      <td>['VOQUEZNA TRIPLE PAK']</td>\n",
       "      <td>['VONOPRAZAN FUMARATE, AMOXICILLIN AND CLARITH...</td>\n",
       "      <td>['AMOXICILLIN', 'CLARITHROMYCIN', 'VONOPRAZAN ...</td>\n",
       "      <td>['Vonoprazan', 'Amoxicillin', 'Clarithromycin'...</td>\n",
       "      <td>[]</td>\n",
       "      <td>voquezna triple pak, vonoprazan fumarate, amox...</td>\n",
       "      <td>24.368333</td>\n",
       "      <td>11.666667</td>\n",
       "      <td>-52.123657</td>\n",
       "      <td>-12.701667</td>\n",
       "    </tr>\n",
       "  </tbody>\n",
       "</table>\n",
       "</div>"
      ],
      "text/plain": [
       "          ct_id     fda_id                    fda_company  \\\n",
       "83  NCT04167670  NDA215153  Phathom Pharmaceuticals, Inc.   \n",
       "82  NCT04167670  NDA215152  Phathom Pharmaceuticals, Inc.   \n",
       "\n",
       "             matched_drug_names     ct_date    fda_date    ct_phase  \\\n",
       "83                  amoxicillin  2019-11-19  2022-05-03  ['PHASE3']   \n",
       "82  amoxicillin, clarithromycin  2019-11-19  2022-05-03  ['PHASE3']   \n",
       "\n",
       "                  fda_brand  \\\n",
       "83    ['VOQUEZNA DUAL PAK']   \n",
       "82  ['VOQUEZNA TRIPLE PAK']   \n",
       "\n",
       "                                          fda_generic  \\\n",
       "83            ['VONOPRAZAN FUMARATE AND AMOXICILLIN']   \n",
       "82  ['VONOPRAZAN FUMARATE, AMOXICILLIN AND CLARITH...   \n",
       "\n",
       "                                           fda_active  \\\n",
       "83             ['AMOXICILLIN', 'VONOPRAZAN FUMARATE']   \n",
       "82  ['AMOXICILLIN', 'CLARITHROMYCIN', 'VONOPRAZAN ...   \n",
       "\n",
       "                                              ct_name ct_otherNames  \\\n",
       "83  ['Vonoprazan', 'Amoxicillin', 'Clarithromycin'...            []   \n",
       "82  ['Vonoprazan', 'Amoxicillin', 'Clarithromycin'...            []   \n",
       "\n",
       "                            normalized_fda_drug_names  ct_avg_price  \\\n",
       "83  amoxicillin, vonoprazan fumarate, voquezna dua...     24.368333   \n",
       "82  voquezna triple pak, vonoprazan fumarate, amox...     24.368333   \n",
       "\n",
       "    fda_avg_price  price_pct_change  profit_or_loss  \n",
       "83      11.666667        -52.123657      -12.701667  \n",
       "82      11.666667        -52.123657      -12.701667  "
      ]
     },
     "execution_count": 44,
     "metadata": {},
     "output_type": "execute_result"
    }
   ],
   "source": [
    "hist.sort_values(by=\"price_pct_change\", ascending=True).head(2)"
   ]
  },
  {
   "cell_type": "code",
   "execution_count": 1,
   "id": "813b8987-4e76-4d6c-9d98-698ca134568a",
   "metadata": {},
   "outputs": [],
   "source": [
    "import json\n",
    "import os\n",
    "import pymongo\n",
    "import gridfs\n",
    "import sys"
   ]
  },
  {
   "cell_type": "code",
   "execution_count": 2,
   "id": "08b7fb22-a617-4d92-92cf-44121b0bb965",
   "metadata": {},
   "outputs": [],
   "source": [
    "client = pymongo.MongoClient(\"mongodb://localhost:27017/\")\n",
    "db = client['clinical_trials']"
   ]
  },
  {
   "cell_type": "code",
   "execution_count": null,
   "id": "844d1a40-b1a6-458d-b046-8fb3dc3a1769",
   "metadata": {},
   "outputs": [],
   "source": [
    "file_path = \"../data_ingest/raw_data/clinical_trials_raw.json\"\n",
    "raw_json = json.load(open(file_path))"
   ]
  },
  {
   "cell_type": "code",
   "execution_count": null,
   "id": "6d07e399-9128-48ac-a313-d6c6622119f8",
   "metadata": {},
   "outputs": [],
   "source": [
    "db.insert_many(raw_json)"
   ]
  },
  {
   "cell_type": "code",
   "execution_count": null,
   "id": "151411f0-5233-4afc-8a9a-cf3721cf895f",
   "metadata": {},
   "outputs": [],
   "source": []
  },
  {
   "cell_type": "code",
   "execution_count": null,
   "id": "467176cf-6026-4468-9bc2-2e009963c1b0",
   "metadata": {},
   "outputs": [],
   "source": [
    "def setup_mongo(json_file, clear_existing=False):\n",
    "    \"\"\"Sets up MongoDB and loads the JSON file into GridFS.\"\"\"\n",
    "    try:\n",
    "        client = pymongo.MongoClient(os.getenv(\"MONGODB_URI\", \"mongodb://localhost:27017/\"))  # Use env var for flexibility\n",
    "        db_name = os.getenv(\"MONGO_DB_NAME\", \"clinical_trials\")  # Use env var for database name\n",
    "        db = client[db_name]\n",
    "        fs = gridfs.GridFS(db)\n",
    "\n",
    "        # Optionally clear existing GridFS data\n",
    "        if clear_existing:\n",
    "            for file in fs.find():\n",
    "                fs.delete(file._id)\n",
    "\n",
    "        # Check if file already exists in GridFS\n",
    "        filename = os.path.basename(json_file)\n",
    "        existing_file = fs.find_one({\"filename\": filename})\n",
    "        if existing_file:\n",
    "            print(f\"File '{filename}' already exists in GridFS. Skipping upload.\")\n",
    "            return db, fs, existing_file._id\n",
    "\n",
    "        print(\"Uploading JSON data into GridFS...\")\n",
    "        with open(json_file, 'rb') as file:  # Open in binary mode for GridFS\n",
    "            file_id = fs.put(file, filename=filename)\n",
    "\n",
    "        print(\"Data upload complete.\")\n",
    "        return db, fs, file_id\n",
    "    \n",
    "    except Exception as e:\n",
    "        print(f\"Error setting up MongoDB: {e}\")\n",
    "        sys.exit(1)\n",
    "\n",
    "\n",
    "if __name__ == \"__main__\":\n",
    "    # Traverse to project root dynamically and locate the JSON file\n",
    "    script_dir = os.path.dirname(os.path.abspath(__file__))\n",
    "    project_root = os.path.abspath(os.path.join(script_dir, \"../\"))\n",
    "    json_file_path = os.path.join(project_root, \"data_ingest/raw_data/clinical_trials_raw.json\")\n",
    "\n",
    "    if not os.path.exists(json_file_path):\n",
    "        print(f\"JSON file not found: {json_file_path}\")\n",
    "        sys.exit(1)\n",
    "\n",
    "    # Initialize MongoDB and load file into GridFS\n",
    "    print(\"Initializing MongoDB...\")\n",
    "    db, fs, file_id = setup_mongo(json_file_path, clear_existing=False)\n",
    "    print(f\"MongoDB setup complete. File ID: {file_id}\")"
   ]
  },
  {
   "cell_type": "code",
   "execution_count": 1,
   "id": "cd89ebcf-c43b-4fb6-97f0-10bef0c5e298",
   "metadata": {},
   "outputs": [],
   "source": [
    "import pandas as pd\n",
    "import matplotlib.pyplot as plt"
   ]
  },
  {
   "cell_type": "code",
   "execution_count": 2,
   "id": "e54f6af4-6258-433d-b1a1-d8578adbe71b",
   "metadata": {},
   "outputs": [
    {
     "name": "stdout",
     "output_type": "stream",
     "text": [
      "<class 'pandas.core.frame.DataFrame'>\n",
      "RangeIndex: 71915 entries, 0 to 71914\n",
      "Data columns (total 11 columns):\n",
      " #   Column                         Non-Null Count  Dtype \n",
      "---  ------                         --------------  ----- \n",
      " 0   nct_id                         71915 non-null  object\n",
      " 1   brief_title                    71915 non-null  object\n",
      " 2   sponsor_name                   71915 non-null  object\n",
      " 3   phases                         71915 non-null  object\n",
      " 4   has_results                    71915 non-null  bool  \n",
      " 5   overall_status                 71915 non-null  object\n",
      " 6   primary_completion_date        71915 non-null  object\n",
      " 7   study_first_post_date          71915 non-null  object\n",
      " 8   url                            71915 non-null  object\n",
      " 9   clean_primary_completion_date  71915 non-null  object\n",
      " 10  is_phase4                      71915 non-null  int64 \n",
      "dtypes: bool(1), int64(1), object(9)\n",
      "memory usage: 5.6+ MB\n"
     ]
    }
   ],
   "source": [
    "df = pd.read_csv('data/clinical_trials-completedDate_industry.csv')\n",
    "df.info()"
   ]
  },
  {
   "cell_type": "code",
   "execution_count": 3,
   "id": "d5eda3b8-295e-4a4c-91b2-ea2a274dedf1",
   "metadata": {
    "scrolled": true
   },
   "outputs": [
    {
     "data": {
      "text/html": [
       "<div>\n",
       "<style scoped>\n",
       "    .dataframe tbody tr th:only-of-type {\n",
       "        vertical-align: middle;\n",
       "    }\n",
       "\n",
       "    .dataframe tbody tr th {\n",
       "        vertical-align: top;\n",
       "    }\n",
       "\n",
       "    .dataframe thead th {\n",
       "        text-align: right;\n",
       "    }\n",
       "</style>\n",
       "<table border=\"1\" class=\"dataframe\">\n",
       "  <thead>\n",
       "    <tr style=\"text-align: right;\">\n",
       "      <th></th>\n",
       "      <th>nct_id</th>\n",
       "      <th>brief_title</th>\n",
       "      <th>sponsor_name</th>\n",
       "      <th>phases</th>\n",
       "      <th>has_results</th>\n",
       "      <th>overall_status</th>\n",
       "      <th>primary_completion_date</th>\n",
       "      <th>study_first_post_date</th>\n",
       "      <th>url</th>\n",
       "      <th>clean_primary_completion_date</th>\n",
       "      <th>is_phase4</th>\n",
       "    </tr>\n",
       "  </thead>\n",
       "  <tbody>\n",
       "    <tr>\n",
       "      <th>0</th>\n",
       "      <td>NCT04128579</td>\n",
       "      <td>Study of EQ001 (Itolizumab) in Systemic Lupus ...</td>\n",
       "      <td>Equillium</td>\n",
       "      <td>['PHASE1']</td>\n",
       "      <td>False</td>\n",
       "      <td>COMPLETED</td>\n",
       "      <td>2023-11-16</td>\n",
       "      <td>2019-10-16</td>\n",
       "      <td>https://clinicaltrials.gov/study/NCT04128579</td>\n",
       "      <td>2023-11-16</td>\n",
       "      <td>0</td>\n",
       "    </tr>\n",
       "    <tr>\n",
       "      <th>1</th>\n",
       "      <td>NCT02312479</td>\n",
       "      <td>Safety and Performance Study of the Nyxoah SAT...</td>\n",
       "      <td>Nyxoah S.A.</td>\n",
       "      <td>['NA']</td>\n",
       "      <td>False</td>\n",
       "      <td>TERMINATED</td>\n",
       "      <td>2015-11</td>\n",
       "      <td>2014-12-09</td>\n",
       "      <td>https://clinicaltrials.gov/study/NCT02312479</td>\n",
       "      <td>2015-11-01</td>\n",
       "      <td>0</td>\n",
       "    </tr>\n",
       "    <tr>\n",
       "      <th>2</th>\n",
       "      <td>NCT03235479</td>\n",
       "      <td>Safety and Efficacy Study in Adult Subjects Wi...</td>\n",
       "      <td>Pfizer</td>\n",
       "      <td>['PHASE3']</td>\n",
       "      <td>True</td>\n",
       "      <td>COMPLETED</td>\n",
       "      <td>2018-01-21</td>\n",
       "      <td>2017-08-01</td>\n",
       "      <td>https://clinicaltrials.gov/study/NCT03235479</td>\n",
       "      <td>2018-01-21</td>\n",
       "      <td>0</td>\n",
       "    </tr>\n",
       "    <tr>\n",
       "      <th>3</th>\n",
       "      <td>NCT02840279</td>\n",
       "      <td>A Multiple Ascending Dose Study of BPN14770 in...</td>\n",
       "      <td>Tetra Discovery Partners</td>\n",
       "      <td>['PHASE1']</td>\n",
       "      <td>False</td>\n",
       "      <td>COMPLETED</td>\n",
       "      <td>2016-11</td>\n",
       "      <td>2016-07-21</td>\n",
       "      <td>https://clinicaltrials.gov/study/NCT02840279</td>\n",
       "      <td>2016-11-01</td>\n",
       "      <td>0</td>\n",
       "    </tr>\n",
       "    <tr>\n",
       "      <th>4</th>\n",
       "      <td>NCT03284879</td>\n",
       "      <td>Post-Marketing Surveillance Study of OTEZLA</td>\n",
       "      <td>Amgen</td>\n",
       "      <td>Unknown</td>\n",
       "      <td>False</td>\n",
       "      <td>COMPLETED</td>\n",
       "      <td>2021-10-31</td>\n",
       "      <td>2017-09-15</td>\n",
       "      <td>https://clinicaltrials.gov/study/NCT03284879</td>\n",
       "      <td>2021-10-31</td>\n",
       "      <td>0</td>\n",
       "    </tr>\n",
       "  </tbody>\n",
       "</table>\n",
       "</div>"
      ],
      "text/plain": [
       "        nct_id                                        brief_title  \\\n",
       "0  NCT04128579  Study of EQ001 (Itolizumab) in Systemic Lupus ...   \n",
       "1  NCT02312479  Safety and Performance Study of the Nyxoah SAT...   \n",
       "2  NCT03235479  Safety and Efficacy Study in Adult Subjects Wi...   \n",
       "3  NCT02840279  A Multiple Ascending Dose Study of BPN14770 in...   \n",
       "4  NCT03284879        Post-Marketing Surveillance Study of OTEZLA   \n",
       "\n",
       "               sponsor_name      phases  has_results overall_status  \\\n",
       "0                 Equillium  ['PHASE1']        False      COMPLETED   \n",
       "1               Nyxoah S.A.      ['NA']        False     TERMINATED   \n",
       "2                    Pfizer  ['PHASE3']         True      COMPLETED   \n",
       "3  Tetra Discovery Partners  ['PHASE1']        False      COMPLETED   \n",
       "4                     Amgen     Unknown        False      COMPLETED   \n",
       "\n",
       "  primary_completion_date study_first_post_date  \\\n",
       "0              2023-11-16            2019-10-16   \n",
       "1                 2015-11            2014-12-09   \n",
       "2              2018-01-21            2017-08-01   \n",
       "3                 2016-11            2016-07-21   \n",
       "4              2021-10-31            2017-09-15   \n",
       "\n",
       "                                            url clean_primary_completion_date  \\\n",
       "0  https://clinicaltrials.gov/study/NCT04128579                    2023-11-16   \n",
       "1  https://clinicaltrials.gov/study/NCT02312479                    2015-11-01   \n",
       "2  https://clinicaltrials.gov/study/NCT03235479                    2018-01-21   \n",
       "3  https://clinicaltrials.gov/study/NCT02840279                    2016-11-01   \n",
       "4  https://clinicaltrials.gov/study/NCT03284879                    2021-10-31   \n",
       "\n",
       "   is_phase4  \n",
       "0          0  \n",
       "1          0  \n",
       "2          0  \n",
       "3          0  \n",
       "4          0  "
      ]
     },
     "execution_count": 3,
     "metadata": {},
     "output_type": "execute_result"
    }
   ],
   "source": [
    "df.head()"
   ]
  },
  {
   "cell_type": "code",
   "execution_count": 6,
   "id": "46113a5b-3c03-477c-8e85-c4a26b909599",
   "metadata": {},
   "outputs": [],
   "source": [
    "# Strip whitespace and convert all dates, forcing \"YYYY-MM\" format into \"YYYY-MM-01\"\n",
    "df['clean_primary_completion_date'] = (\n",
    "    df['primary_completion_date']\n",
    "    .str.strip()  # Remove any surrounding whitespace\n",
    "    .apply(lambda x: pd.to_datetime(x, format='%Y-%m-%d', errors='coerce') \n",
    "           if len(x) > 7 else pd.to_datetime(x + '-01', format='%Y-%m-%d'))\n",
    ")"
   ]
  },
  {
   "cell_type": "code",
   "execution_count": 10,
   "id": "2d64a3f6-7b3e-4086-a8c9-d6959c2c927f",
   "metadata": {},
   "outputs": [],
   "source": [
    "df['is_phase4'] = df['phases'].apply(lambda x: 1 if x.strip() == \"['PHASE4']\" else 0)"
   ]
  },
  {
   "cell_type": "code",
   "execution_count": 15,
   "id": "11eb2e2c-ba33-43ea-886e-da45c8c14186",
   "metadata": {},
   "outputs": [],
   "source": [
    "filtered_df = df[df['clean_primary_completion_date'] >= pd.Timestamp.now() - pd.DateOffset(years=10)]"
   ]
  },
  {
   "cell_type": "code",
   "execution_count": 16,
   "id": "f48b0b88-caaa-4658-9d65-9885550935fc",
   "metadata": {},
   "outputs": [
    {
     "data": {
      "text/plain": [
       "is_phase4\n",
       "0    69260\n",
       "1     2566\n",
       "Name: count, dtype: int64"
      ]
     },
     "execution_count": 16,
     "metadata": {},
     "output_type": "execute_result"
    }
   ],
   "source": [
    "filtered_df.is_phase4.value_counts()"
   ]
  },
  {
   "cell_type": "code",
   "execution_count": 17,
   "id": "265634fa-0fcb-44fa-90cd-535235ccbedf",
   "metadata": {},
   "outputs": [
    {
     "data": {
      "text/plain": [
       "11994"
      ]
     },
     "execution_count": 17,
     "metadata": {},
     "output_type": "execute_result"
    }
   ],
   "source": [
    "len(filtered_df['sponsor_name'].unique())"
   ]
  },
  {
   "cell_type": "code",
   "execution_count": 19,
   "id": "5bf0c48c-399b-41b0-b536-5bd05f99598f",
   "metadata": {},
   "outputs": [
    {
     "data": {
      "text/plain": [
       "sponsor_name\n",
       "Novartis Pharmaceuticals                            1412\n",
       "Pfizer                                              1361\n",
       "AstraZeneca                                         1355\n",
       "GlaxoSmithKline                                     1013\n",
       "Hoffmann-La Roche                                    948\n",
       "Bayer                                                893\n",
       "Eli Lilly and Company                                883\n",
       "Bristol-Myers Squibb                                 828\n",
       "Boehringer Ingelheim                                 792\n",
       "AbbVie                                               738\n",
       "Merck Sharp & Dohme LLC                              724\n",
       "Janssen Research & Development, LLC                  671\n",
       "Takeda                                               607\n",
       "Novo Nordisk A/S                                     567\n",
       "Sanofi                                               491\n",
       "Jiangsu HengRui Medicine Co., Ltd.                   454\n",
       "Amgen                                                453\n",
       "Gilead Sciences                                      382\n",
       "Abbott Medical Devices                               303\n",
       "Celgene                                              299\n",
       "Boston Scientific Corporation                        268\n",
       "Chia Tai Tianqing Pharmaceutical Group Co., Ltd.     260\n",
       "Regeneron Pharmaceuticals                            255\n",
       "Biogen                                               252\n",
       "Chong Kun Dang Pharmaceutical                        230\n",
       "Allergan                                             213\n",
       "Genentech, Inc.                                      209\n",
       "Incyte Corporation                                   206\n",
       "Zimmer Biomet                                        204\n",
       "Société des Produits Nestlé (SPN)                    197\n",
       "Alcon Research                                       196\n",
       "Alexion Pharmaceuticals, Inc.                        167\n",
       "Ipsen                                                165\n",
       "Sanofi Pasteur, a Sanofi Company                     163\n",
       "Daewoong Pharmaceutical Co. LTD.                     152\n",
       "Innovent Biologics (Suzhou) Co. Ltd.                 151\n",
       "BeiGene                                              149\n",
       "Daiichi Sankyo                                       148\n",
       "Vertex Pharmaceuticals Incorporated                  143\n",
       "CSPC ZhongQi Pharmaceutical Technology Co., Ltd.     138\n",
       "Galderma R&D                                         137\n",
       "Astellas Pharma Global Development, Inc.             135\n",
       "H. Lundbeck A/S                                      134\n",
       "Johnson & Johnson Vision Care, Inc.                  131\n",
       "ViiV Healthcare                                      130\n",
       "Coopervision, Inc.                                   129\n",
       "Shire                                                128\n",
       "Hanmi Pharmaceutical Company Limited                 118\n",
       "Medtronic Cardiac Rhythm and Heart Failure           115\n",
       "Ferring Pharmaceuticals                              115\n",
       "Name: count, dtype: int64"
      ]
     },
     "execution_count": 19,
     "metadata": {},
     "output_type": "execute_result"
    }
   ],
   "source": [
    "filtered_df['sponsor_name'].value_counts().head(50)"
   ]
  },
  {
   "cell_type": "code",
   "execution_count": null,
   "id": "fe4f9c40-153f-4631-a757-e62e4e9ee467",
   "metadata": {},
   "outputs": [],
   "source": []
  }
 ],
 "metadata": {
  "kernelspec": {
   "display_name": "Python 3 (ipykernel)",
   "language": "python",
   "name": "python3"
  },
  "language_info": {
   "codemirror_mode": {
    "name": "ipython",
    "version": 3
   },
   "file_extension": ".py",
   "mimetype": "text/x-python",
   "name": "python",
   "nbconvert_exporter": "python",
   "pygments_lexer": "ipython3",
   "version": "3.13.0"
  }
 },
 "nbformat": 4,
 "nbformat_minor": 5
}
