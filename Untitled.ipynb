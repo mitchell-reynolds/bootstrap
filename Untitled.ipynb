{
 "cells": [
  {
   "cell_type": "code",
   "execution_count": 1,
   "id": "cd89ebcf-c43b-4fb6-97f0-10bef0c5e298",
   "metadata": {},
   "outputs": [],
   "source": [
    "import pandas as pd\n",
    "import matplotlib.pyplot as plt"
   ]
  },
  {
   "cell_type": "code",
   "execution_count": 4,
   "id": "e54f6af4-6258-433d-b1a1-d8578adbe71b",
   "metadata": {},
   "outputs": [
    {
     "name": "stdout",
     "output_type": "stream",
     "text": [
      "<class 'pandas.core.frame.DataFrame'>\n",
      "RangeIndex: 112563 entries, 0 to 112562\n",
      "Data columns (total 9 columns):\n",
      " #   Column                   Non-Null Count   Dtype \n",
      "---  ------                   --------------   ----- \n",
      " 0   nct_id                   112563 non-null  object\n",
      " 1   brief_title              112563 non-null  object\n",
      " 2   sponsor_name             112563 non-null  object\n",
      " 3   phases                   112563 non-null  object\n",
      " 4   has_results              112563 non-null  bool  \n",
      " 5   overall_status           112563 non-null  object\n",
      " 6   primary_completion_date  112563 non-null  object\n",
      " 7   study_first_post_date    112563 non-null  object\n",
      " 8   url                      112563 non-null  object\n",
      "dtypes: bool(1), object(8)\n",
      "memory usage: 7.0+ MB\n"
     ]
    }
   ],
   "source": [
    "df = pd.read_csv('data/clinical_trials-completedDate_industry.csv')\n",
    "df.info()"
   ]
  },
  {
   "cell_type": "code",
   "execution_count": 5,
   "id": "d5eda3b8-295e-4a4c-91b2-ea2a274dedf1",
   "metadata": {
    "collapsed": true,
    "jupyter": {
     "outputs_hidden": true
    },
    "scrolled": true
   },
   "outputs": [
    {
     "data": {
      "text/html": [
       "<div>\n",
       "<style scoped>\n",
       "    .dataframe tbody tr th:only-of-type {\n",
       "        vertical-align: middle;\n",
       "    }\n",
       "\n",
       "    .dataframe tbody tr th {\n",
       "        vertical-align: top;\n",
       "    }\n",
       "\n",
       "    .dataframe thead th {\n",
       "        text-align: right;\n",
       "    }\n",
       "</style>\n",
       "<table border=\"1\" class=\"dataframe\">\n",
       "  <thead>\n",
       "    <tr style=\"text-align: right;\">\n",
       "      <th></th>\n",
       "      <th>nct_id</th>\n",
       "      <th>brief_title</th>\n",
       "      <th>sponsor_name</th>\n",
       "      <th>phases</th>\n",
       "      <th>has_results</th>\n",
       "      <th>overall_status</th>\n",
       "      <th>primary_completion_date</th>\n",
       "      <th>study_first_post_date</th>\n",
       "      <th>url</th>\n",
       "    </tr>\n",
       "  </thead>\n",
       "  <tbody>\n",
       "    <tr>\n",
       "      <th>112558</th>\n",
       "      <td>NCT04741087</td>\n",
       "      <td>Study of the Safety and Efficacy of AMT-101 in...</td>\n",
       "      <td>Applied Molecular Transport</td>\n",
       "      <td>['PHASE2']</td>\n",
       "      <td>False</td>\n",
       "      <td>COMPLETED</td>\n",
       "      <td>2022-03-11</td>\n",
       "      <td>2021-02-05</td>\n",
       "      <td>https://clinicaltrials.gov/study/NCT04741087</td>\n",
       "    </tr>\n",
       "    <tr>\n",
       "      <th>112559</th>\n",
       "      <td>NCT01738087</td>\n",
       "      <td>Lung Bioavailability and Total Systemic Exposu...</td>\n",
       "      <td>Chiesi Farmaceutici S.p.A.</td>\n",
       "      <td>['PHASE2']</td>\n",
       "      <td>False</td>\n",
       "      <td>COMPLETED</td>\n",
       "      <td>2013-01</td>\n",
       "      <td>2012-11-30</td>\n",
       "      <td>https://clinicaltrials.gov/study/NCT01738087</td>\n",
       "    </tr>\n",
       "    <tr>\n",
       "      <th>112560</th>\n",
       "      <td>NCT00171587</td>\n",
       "      <td>Study of the Safety, Tolerability, Pharmacokin...</td>\n",
       "      <td>Novartis</td>\n",
       "      <td>['PHASE1', 'PHASE2']</td>\n",
       "      <td>False</td>\n",
       "      <td>COMPLETED</td>\n",
       "      <td>2007-03</td>\n",
       "      <td>2005-09-15</td>\n",
       "      <td>https://clinicaltrials.gov/study/NCT00171587</td>\n",
       "    </tr>\n",
       "    <tr>\n",
       "      <th>112561</th>\n",
       "      <td>NCT00085787</td>\n",
       "      <td>A Study of ARRY-142886 in Patients With Advanc...</td>\n",
       "      <td>Array Biopharma, now a wholly owned subsidiary...</td>\n",
       "      <td>['PHASE1']</td>\n",
       "      <td>False</td>\n",
       "      <td>COMPLETED</td>\n",
       "      <td>2007-02</td>\n",
       "      <td>2004-06-17</td>\n",
       "      <td>https://clinicaltrials.gov/study/NCT00085787</td>\n",
       "    </tr>\n",
       "    <tr>\n",
       "      <th>112562</th>\n",
       "      <td>NCT06610487</td>\n",
       "      <td>A Study of FT1 in Healthy Adult Volunteers</td>\n",
       "      <td>Chongqing Peg-Bio Biopharm Co., Ltd.</td>\n",
       "      <td>['PHASE1']</td>\n",
       "      <td>False</td>\n",
       "      <td>RECRUITING</td>\n",
       "      <td>2025-03-06</td>\n",
       "      <td>2024-09-24</td>\n",
       "      <td>https://clinicaltrials.gov/study/NCT06610487</td>\n",
       "    </tr>\n",
       "  </tbody>\n",
       "</table>\n",
       "</div>"
      ],
      "text/plain": [
       "             nct_id                                        brief_title  \\\n",
       "112558  NCT04741087  Study of the Safety and Efficacy of AMT-101 in...   \n",
       "112559  NCT01738087  Lung Bioavailability and Total Systemic Exposu...   \n",
       "112560  NCT00171587  Study of the Safety, Tolerability, Pharmacokin...   \n",
       "112561  NCT00085787  A Study of ARRY-142886 in Patients With Advanc...   \n",
       "112562  NCT06610487         A Study of FT1 in Healthy Adult Volunteers   \n",
       "\n",
       "                                             sponsor_name  \\\n",
       "112558                        Applied Molecular Transport   \n",
       "112559                         Chiesi Farmaceutici S.p.A.   \n",
       "112560                                           Novartis   \n",
       "112561  Array Biopharma, now a wholly owned subsidiary...   \n",
       "112562               Chongqing Peg-Bio Biopharm Co., Ltd.   \n",
       "\n",
       "                      phases  has_results overall_status  \\\n",
       "112558            ['PHASE2']        False      COMPLETED   \n",
       "112559            ['PHASE2']        False      COMPLETED   \n",
       "112560  ['PHASE1', 'PHASE2']        False      COMPLETED   \n",
       "112561            ['PHASE1']        False      COMPLETED   \n",
       "112562            ['PHASE1']        False     RECRUITING   \n",
       "\n",
       "       primary_completion_date study_first_post_date  \\\n",
       "112558              2022-03-11            2021-02-05   \n",
       "112559                 2013-01            2012-11-30   \n",
       "112560                 2007-03            2005-09-15   \n",
       "112561                 2007-02            2004-06-17   \n",
       "112562              2025-03-06            2024-09-24   \n",
       "\n",
       "                                                 url  \n",
       "112558  https://clinicaltrials.gov/study/NCT04741087  \n",
       "112559  https://clinicaltrials.gov/study/NCT01738087  \n",
       "112560  https://clinicaltrials.gov/study/NCT00171587  \n",
       "112561  https://clinicaltrials.gov/study/NCT00085787  \n",
       "112562  https://clinicaltrials.gov/study/NCT06610487  "
      ]
     },
     "execution_count": 5,
     "metadata": {},
     "output_type": "execute_result"
    }
   ],
   "source": [
    "df.tail()"
   ]
  },
  {
   "cell_type": "code",
   "execution_count": 6,
   "id": "46113a5b-3c03-477c-8e85-c4a26b909599",
   "metadata": {},
   "outputs": [],
   "source": [
    "# Strip whitespace and convert all dates, forcing \"YYYY-MM\" format into \"YYYY-MM-01\"\n",
    "df['clean_primary_completion_date'] = (\n",
    "    df['primary_completion_date']\n",
    "    .str.strip()  # Remove any surrounding whitespace\n",
    "    .apply(lambda x: pd.to_datetime(x, format='%Y-%m-%d', errors='coerce') \n",
    "           if len(x) > 7 else pd.to_datetime(x + '-01', format='%Y-%m-%d'))\n",
    ")"
   ]
  },
  {
   "cell_type": "code",
   "execution_count": 10,
   "id": "2d64a3f6-7b3e-4086-a8c9-d6959c2c927f",
   "metadata": {},
   "outputs": [],
   "source": [
    "df['is_phase4'] = df['phases'].apply(lambda x: 1 if x.strip() == \"['PHASE4']\" else 0)"
   ]
  },
  {
   "cell_type": "code",
   "execution_count": 15,
   "id": "11eb2e2c-ba33-43ea-886e-da45c8c14186",
   "metadata": {},
   "outputs": [],
   "source": [
    "filtered_df = df[df['clean_primary_completion_date'] >= pd.Timestamp.now() - pd.DateOffset(years=10)]"
   ]
  },
  {
   "cell_type": "code",
   "execution_count": 16,
   "id": "f48b0b88-caaa-4658-9d65-9885550935fc",
   "metadata": {},
   "outputs": [
    {
     "data": {
      "text/plain": [
       "is_phase4\n",
       "0    69260\n",
       "1     2566\n",
       "Name: count, dtype: int64"
      ]
     },
     "execution_count": 16,
     "metadata": {},
     "output_type": "execute_result"
    }
   ],
   "source": [
    "filtered_df.is_phase4.value_counts()"
   ]
  },
  {
   "cell_type": "code",
   "execution_count": 17,
   "id": "265634fa-0fcb-44fa-90cd-535235ccbedf",
   "metadata": {},
   "outputs": [
    {
     "data": {
      "text/plain": [
       "11994"
      ]
     },
     "execution_count": 17,
     "metadata": {},
     "output_type": "execute_result"
    }
   ],
   "source": [
    "len(filtered_df['sponsor_name'].unique())"
   ]
  },
  {
   "cell_type": "code",
   "execution_count": 19,
   "id": "5bf0c48c-399b-41b0-b536-5bd05f99598f",
   "metadata": {},
   "outputs": [
    {
     "data": {
      "text/plain": [
       "sponsor_name\n",
       "Novartis Pharmaceuticals                            1412\n",
       "Pfizer                                              1361\n",
       "AstraZeneca                                         1355\n",
       "GlaxoSmithKline                                     1013\n",
       "Hoffmann-La Roche                                    948\n",
       "Bayer                                                893\n",
       "Eli Lilly and Company                                883\n",
       "Bristol-Myers Squibb                                 828\n",
       "Boehringer Ingelheim                                 792\n",
       "AbbVie                                               738\n",
       "Merck Sharp & Dohme LLC                              724\n",
       "Janssen Research & Development, LLC                  671\n",
       "Takeda                                               607\n",
       "Novo Nordisk A/S                                     567\n",
       "Sanofi                                               491\n",
       "Jiangsu HengRui Medicine Co., Ltd.                   454\n",
       "Amgen                                                453\n",
       "Gilead Sciences                                      382\n",
       "Abbott Medical Devices                               303\n",
       "Celgene                                              299\n",
       "Boston Scientific Corporation                        268\n",
       "Chia Tai Tianqing Pharmaceutical Group Co., Ltd.     260\n",
       "Regeneron Pharmaceuticals                            255\n",
       "Biogen                                               252\n",
       "Chong Kun Dang Pharmaceutical                        230\n",
       "Allergan                                             213\n",
       "Genentech, Inc.                                      209\n",
       "Incyte Corporation                                   206\n",
       "Zimmer Biomet                                        204\n",
       "Société des Produits Nestlé (SPN)                    197\n",
       "Alcon Research                                       196\n",
       "Alexion Pharmaceuticals, Inc.                        167\n",
       "Ipsen                                                165\n",
       "Sanofi Pasteur, a Sanofi Company                     163\n",
       "Daewoong Pharmaceutical Co. LTD.                     152\n",
       "Innovent Biologics (Suzhou) Co. Ltd.                 151\n",
       "BeiGene                                              149\n",
       "Daiichi Sankyo                                       148\n",
       "Vertex Pharmaceuticals Incorporated                  143\n",
       "CSPC ZhongQi Pharmaceutical Technology Co., Ltd.     138\n",
       "Galderma R&D                                         137\n",
       "Astellas Pharma Global Development, Inc.             135\n",
       "H. Lundbeck A/S                                      134\n",
       "Johnson & Johnson Vision Care, Inc.                  131\n",
       "ViiV Healthcare                                      130\n",
       "Coopervision, Inc.                                   129\n",
       "Shire                                                128\n",
       "Hanmi Pharmaceutical Company Limited                 118\n",
       "Medtronic Cardiac Rhythm and Heart Failure           115\n",
       "Ferring Pharmaceuticals                              115\n",
       "Name: count, dtype: int64"
      ]
     },
     "execution_count": 19,
     "metadata": {},
     "output_type": "execute_result"
    }
   ],
   "source": [
    "filtered_df['sponsor_name'].value_counts().head(50)"
   ]
  },
  {
   "cell_type": "code",
   "execution_count": null,
   "id": "fe4f9c40-153f-4631-a757-e62e4e9ee467",
   "metadata": {},
   "outputs": [],
   "source": []
  }
 ],
 "metadata": {
  "kernelspec": {
   "display_name": "Python 3 (ipykernel)",
   "language": "python",
   "name": "python3"
  },
  "language_info": {
   "codemirror_mode": {
    "name": "ipython",
    "version": 3
   },
   "file_extension": ".py",
   "mimetype": "text/x-python",
   "name": "python",
   "nbconvert_exporter": "python",
   "pygments_lexer": "ipython3",
   "version": "3.13.0"
  }
 },
 "nbformat": 4,
 "nbformat_minor": 5
}
